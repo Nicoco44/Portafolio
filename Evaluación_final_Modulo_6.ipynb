{
  "nbformat": 4,
  "nbformat_minor": 0,
  "metadata": {
    "colab": {
      "provenance": []
    },
    "kernelspec": {
      "name": "python3",
      "display_name": "Python 3"
    },
    "language_info": {
      "name": "python"
    }
  },
  "cells": [
    {
      "cell_type": "code",
      "execution_count": 2,
      "metadata": {
        "colab": {
          "base_uri": "https://localhost:8080/"
        },
        "id": "pBJc1heR8FWh",
        "outputId": "bafd52b8-eb22-4608-f17a-e0c2e07ac799"
      },
      "outputs": [
        {
          "output_type": "stream",
          "name": "stdout",
          "text": [
            "Media anual de pasajeros: 698880\n",
            "Desviación estándar anual: 381.58\n",
            "Z calculado: 1.6248\n",
            "Probabilidad (P(X ≥ 699500)): 0.0521 o 5.21%\n"
          ]
        }
      ],
      "source": [
        "## Ejercicio 1\n",
        "### Parte a: Probabilidad de pasajeros anuales\n",
        "\n",
        "import numpy as np\n",
        "from scipy import stats\n",
        "\n",
        "# Datos del problema\n",
        "media_por_vuelo = 120\n",
        "varianza_por_vuelo = 25\n",
        "desv_por_vuelo = np.sqrt(varianza_por_vuelo)\n",
        "vuelos_por_dia = 16\n",
        "dias_por_ano = 52 * 7  # 52 semanas * 7 días\n",
        "\n",
        "# Cálculos\n",
        "media_por_dia = vuelos_por_dia * media_por_vuelo\n",
        "varianza_por_dia = vuelos_por_dia * varianza_por_vuelo\n",
        "desv_por_dia = np.sqrt(varianza_por_dia)\n",
        "\n",
        "media_anual = media_por_dia * dias_por_ano\n",
        "varianza_anual = varianza_por_dia * dias_por_ano\n",
        "desv_anual = np.sqrt(varianza_anual)\n",
        "\n",
        "valor_umbral = 699500\n",
        "\n",
        "# Cálculo de Z y probabilidad\n",
        "z = (valor_umbral - media_anual) / desv_anual\n",
        "probabilidad = 1 - stats.norm.cdf(z)\n",
        "\n",
        "print(f\"Media anual de pasajeros: {media_anual:.0f}\")\n",
        "print(f\"Desviación estándar anual: {desv_anual:.2f}\")\n",
        "print(f\"Z calculado: {z:.4f}\")\n",
        "print(f\"Probabilidad (P(X ≥ 699500)): {probabilidad:.4f} o {probabilidad*100:.2f}%\")\n"
      ]
    },
    {
      "cell_type": "code",
      "source": [
        "### Parte b: Probabilidad de menos de 5% niños\n",
        "\n",
        "# Datos del problema\n",
        "p = 0.07  # proporción histórica\n",
        "n = 400   # tamaño de muestra\n",
        "umbral = 0.05\n",
        "\n",
        "# Cálculos\n",
        "media_prop = p\n",
        "desv_prop = np.sqrt(p * (1 - p) / n)\n",
        "\n",
        "z = (umbral - media_prop) / desv_prop\n",
        "probabilidad = stats.norm.cdf(z)\n",
        "\n",
        "print(f\"Media de la proporción muestral: {media_prop:.4f}\")\n",
        "print(f\"Desviación estándar de la proporción: {desv_prop:.4f}\")\n",
        "print(f\"Z calculado: {z:.4f}\")\n",
        "print(f\"Probabilidad (P(p̂ < 0.05)): {probabilidad:.4f} o {probabilidad*100:.2f}%\")\n"
      ],
      "metadata": {
        "colab": {
          "base_uri": "https://localhost:8080/"
        },
        "id": "SzC8C4Xw8abJ",
        "outputId": "53f8fba0-d29b-4af0-e88f-4ec81b321a9a"
      },
      "execution_count": 3,
      "outputs": [
        {
          "output_type": "stream",
          "name": "stdout",
          "text": [
            "Media de la proporción muestral: 0.0700\n",
            "Desviación estándar de la proporción: 0.0128\n",
            "Z calculado: -1.5677\n",
            "Probabilidad (P(p̂ < 0.05)): 0.0585 o 5.85%\n"
          ]
        }
      ]
    },
    {
      "cell_type": "code",
      "source": [
        "## Ejercicio 2: Prueba de hipótesis para encuestas\n",
        "\n",
        "# Datos del problema\n",
        "datos_encuestas = [53, 57, 50, 55, 58, 54, 60, 52, 59, 62, 60, 60, 51, 59]\n",
        "mu0 = 53  # media hipotética\n",
        "alpha = 0.05\n",
        "\n",
        "# Cálculos estadísticos\n",
        "n = len(datos_encuestas)\n",
        "media_muestral = np.mean(datos_encuestas)\n",
        "desv_muestral = np.std(datos_encuestas, ddof=1)  # ddof=1 para muestra\n",
        "\n",
        "# Prueba t unilateral\n",
        "t_stat = (media_muestral - mu0) / (desv_muestral / np.sqrt(n))\n",
        "p_value = 1 - stats.t.cdf(t_stat, df=n-1)  # Unilateral derecha\n",
        "t_critico = stats.t.ppf(1 - alpha, df=n-1)\n",
        "\n",
        "print(f\"Media muestral: {media_muestral:.2f}\")\n",
        "print(f\"Desviación estándar muestral: {desv_muestral:.2f}\")\n",
        "print(f\"Estadístico t calculado: {t_stat:.4f}\")\n",
        "print(f\"Valor crítico t (α=0.05, unilateral): {t_critico:.4f}\")\n",
        "print(f\"Valor p: {p_value:.4f}\")\n",
        "\n",
        "# Conclusión\n",
        "if t_stat > t_critico:\n",
        "    print(\"\\nConclusión: Rechazamos H₀ (la media es significativamente mayor que 53)\")\n",
        "else:\n",
        "    print(\"\\nConclusión: No hay evidencia para rechazar H₀\")\n"
      ],
      "metadata": {
        "colab": {
          "base_uri": "https://localhost:8080/"
        },
        "id": "hJWPXAbb8j6w",
        "outputId": "7b794ab2-5913-43b1-e86c-d00601aa36de"
      },
      "execution_count": 4,
      "outputs": [
        {
          "output_type": "stream",
          "name": "stdout",
          "text": [
            "Media muestral: 56.43\n",
            "Desviación estándar muestral: 3.88\n",
            "Estadístico t calculado: 3.3087\n",
            "Valor crítico t (α=0.05, unilateral): 1.7709\n",
            "Valor p: 0.0028\n",
            "\n",
            "Conclusión: Rechazamos H₀ (la media es significativamente mayor que 53)\n"
          ]
        }
      ]
    },
    {
      "cell_type": "code",
      "source": [
        "## Ejercicio 3: Prueba Z para tiempo de exámenes\n",
        "\n",
        "# Datos del problema\n",
        "mu0 = 65  # media del año pasado\n",
        "sigma = 10  # desviación estándar poblacional\n",
        "n = 50  # tamaño de muestra\n",
        "media_muestral = 68  # media del año actual\n",
        "alpha = 0.05  # nivel de significancia\n",
        "\n",
        "# Prueba Z unilateral\n",
        "z_stat = (media_muestral - mu0) / (sigma / np.sqrt(n))\n",
        "p_value = 1 - stats.norm.cdf(z_stat)  # Unilateral derecha\n",
        "z_critico = stats.norm.ppf(1 - alpha)\n",
        "\n",
        "print(f\"Estadístico Z calculado: {z_stat:.4f}\")\n",
        "print(f\"Valor crítico Z (α=0.05, unilateral): {z_critico:.4f}\")\n",
        "print(f\"Valor p: {p_value:.4f}\")\n",
        "\n",
        "# Conclusión\n",
        "if z_stat > z_critico:\n",
        "    print(\"\\nConclusión: Rechazamos H₀ (el tiempo promedio ha aumentado)\")\n",
        "else:\n",
        "    print(\"\\nConclusión: No hay evidencia para rechazar H₀\")"
      ],
      "metadata": {
        "colab": {
          "base_uri": "https://localhost:8080/"
        },
        "id": "O53FX8-T8qIg",
        "outputId": "2f540e57-c9b4-4051-efd3-ca6d4eb0ba91"
      },
      "execution_count": 5,
      "outputs": [
        {
          "output_type": "stream",
          "name": "stdout",
          "text": [
            "Estadístico Z calculado: 2.1213\n",
            "Valor crítico Z (α=0.05, unilateral): 1.6449\n",
            "Valor p: 0.0169\n",
            "\n",
            "Conclusión: Rechazamos H₀ (el tiempo promedio ha aumentado)\n"
          ]
        }
      ]
    }
  ]
}